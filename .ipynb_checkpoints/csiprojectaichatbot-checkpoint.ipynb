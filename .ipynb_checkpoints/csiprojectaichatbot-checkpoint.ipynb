{
 "cells": [
  {
   "cell_type": "code",
   "execution_count": 4,
   "id": "735f49a2-029e-41c5-bfe1-e866bb3f4287",
   "metadata": {},
   "outputs": [
    {
     "name": "stdout",
     "output_type": "stream",
     "text": [
      "Dictionary loaded successfully!\n"
     ]
    }
   ],
   "source": [
    "import random\n",
    "\n",
    "# Creating a dictionary to store questions and answers from the AI BOT\n",
    "intents = {\n",
    "    \"greetings\": {\n",
    "        \"patterns\": [\"hello\", \"hi\", \"hey\"],\n",
    "        \"responses\": [\"Hello!\", \"Hi there!\", \"Hey! How can I help you?\"]\n",
    "    },\n",
    "    \"space\": {\n",
    "        \"patterns\": [\"tell me about space\", \"what is a black hole\", \"moon landing\"],\n",
    "        \"responses\": [\n",
    "            \"Space is vast and mostly empty!\",\n",
    "            \"A black hole is a region of space with strong gravity.\",\n",
    "            \"The first moon landing was in 1969.\"\n",
    "        ]\n",
    "    }\n",
    "}\n",
    "\n",
    "print(\"Dictionary loaded successfully!\") \n"
   ]
  },
  {
   "cell_type": "code",
   "execution_count": 6,
   "id": "20e67382-3dcc-4d68-be2e-b961e41ee9e1",
   "metadata": {},
   "outputs": [
    {
     "name": "stderr",
     "output_type": "stream",
     "text": [
      "[nltk_data] Downloading package punkt to C:\\Users\\PS\n",
      "[nltk_data]     Vedant\\AppData\\Roaming\\nltk_data...\n",
      "[nltk_data]   Package punkt is already up-to-date!\n"
     ]
    },
    {
     "name": "stdout",
     "output_type": "stream",
     "text": [
      "Chatbot training complete!\n"
     ]
    }
   ],
   "source": [
    "import nltk\n",
    "import spacy\n",
    "import pandas as pd\n",
    "from sklearn.feature_extraction.text import TfidfVectorizer\n",
    "from sklearn.neighbors import KNeighborsClassifier\n",
    "from nltk.tokenize import word_tokenize\n",
    "\n",
    "# Download NLTK tokenizer\n",
    "nltk.download('punkt')\n",
    "\n",
    "# Load Spacy model\n",
    "nlp = spacy.load(\"en_core_web_sm\")\n",
    "\n",
    "# Function to prepare data for training\n",
    "def prepare_training_data():\n",
    "    data = []\n",
    "    labels = []\n",
    "    \n",
    "    for category, content in intents.items():\n",
    "        for pattern in content[\"patterns\"]:\n",
    "            data.append(pattern)\n",
    "            labels.append(category)\n",
    "\n",
    "    return data, labels\n",
    "\n",
    "# Function to train the chatbot\n",
    "def train_chatbot():\n",
    "    data, labels = prepare_training_data()\n",
    "    \n",
    "    vectorizer = TfidfVectorizer()\n",
    "    X = vectorizer.fit_transform(data)\n",
    "    \n",
    "    model = KNeighborsClassifier(n_neighbors=3)\n",
    "    model.fit(X, labels)\n",
    "    \n",
    "    return vectorizer, model\n",
    "\n",
    "# Training  the chatbot\n",
    "vectorizer, model = train_chatbot()\n",
    "\n",
    "print(\"Chatbot training complete!\")\n"
   ]
  },
  {
   "cell_type": "code",
   "execution_count": 11,
   "id": "39259a20-f345-4300-ae8a-618100b66cdb",
   "metadata": {},
   "outputs": [
    {
     "name": "stdout",
     "output_type": "stream",
     "text": [
      "Space is a vast, seemingly infinite expanse that contains planets, stars, and galaxies.\n"
     ]
    },
    {
     "name": "stderr",
     "output_type": "stream",
     "text": [
      "[nltk_data] Downloading package punkt to C:\\Users\\PS\n",
      "[nltk_data]     Vedant\\AppData\\Roaming\\nltk_data...\n",
      "[nltk_data]   Package punkt is already up-to-date!\n"
     ]
    }
   ],
   "source": [
    "import nltk\n",
    "import random\n",
    "from nltk.tokenize import word_tokenize\n",
    "\n",
    "# Download necessary NLTK resources\n",
    "nltk.download('punkt')\n",
    "\n",
    "# Load your trained model and vectorizer (Replace with actual model loading)\n",
    "# Example:\n",
    "# from sklearn.feature_extraction.text import CountVectorizer\n",
    "# import joblib\n",
    "# model = joblib.load('chatbot_model.pkl')\n",
    "# vectorizer = joblib.load('vectorizer.pkl')\n",
    "\n",
    "# Define sample intents (Replace with actual intents)\n",
    "intents = {\n",
    "    \"greeting\": {\n",
    "        \"patterns\": [\"hello\", \"hi\", \"hey\", \"greetings\"],\n",
    "        \"responses\": [\"Hello! How can I help you?\", \"Hey there!\", \"Hi! What can I do for you?\"]\n",
    "    },\n",
    "    \"space\": {\n",
    "        \"patterns\": [\"tell me about space\", \"what is space\"],\n",
    "        \"responses\": [\"Space is a vast, seemingly infinite expanse that contains planets, stars, and galaxies.\"]\n",
    "    }\n",
    "}\n",
    "\n",
    "def chatbot_response(user_input):\n",
    "    tokens = word_tokenize(user_input.lower())  # Tokenizing input\n",
    "    processed_input = \" \".join(tokens)  # Joining tokens back into a string\n",
    "\n",
    "    # Ensure vectorizer and model are defined before using them\n",
    "    try:\n",
    "        X_test = vectorizer.transform([processed_input])  # Transform input\n",
    "        intent = model.predict(X_test)[0]  # Predict category\n",
    "    except NameError:\n",
    "        return \"Error: Model or vectorizer not loaded. Please load them first.\"\n",
    "\n",
    "    # Return response based on intent\n",
    "    if intent in intents:\n",
    "        return random.choice(intents[intent][\"responses\"])  # Pick a random response\n",
    "\n",
    "    return \"I'm still learning! Can you rephrase that?\"  # Default response\n",
    "\n",
    "# Test the chatbot\n",
    "print(chatbot_response(\"tell me about space\"))\n",
    "\n"
   ]
  },
  {
   "cell_type": "code",
   "execution_count": null,
   "id": "de193021-1be9-4c33-ac29-ff013c0a295f",
   "metadata": {},
   "outputs": [],
   "source": [
    "def save_conversation(user_input, intent=\"unknown\"):\n",
    "    df = pd.DataFrame([[user_input, intent]], columns=[\"query\", \"intent\"])\n",
    "    df.to_csv(\"conversations.csv\", mode=\"a\", index=False, header=False)\n",
    "\n",
    "# Example usage\n",
    "save_conversation(\"What is the speed of light?\", \"science\")\n",
    "\n",
    "print(\"Conversation saved!\")\n"
   ]
  },
  {
   "cell_type": "code",
   "execution_count": null,
   "id": "242eaee0-c966-4cce-ae8d-0f4b95304468",
   "metadata": {},
   "outputs": [],
   "source": [
    "vectorizer, model = train_chatbot()\n"
   ]
  },
  {
   "cell_type": "code",
   "execution_count": null,
   "id": "876d6838-5492-4f0e-926f-a3a410d811c7",
   "metadata": {},
   "outputs": [],
   "source": [
    "from IPython.display import display, HTML\n",
    "import ipywidgets as widgets\n",
    "\n",
    "def on_send_message(change):\n",
    "    user_message = message_box.value\n",
    "    message_box.value = \"\"  # Clear input box\n",
    "    bot_response = chatbot_response(user_message)\n",
    "    chat_log.append(f\"<b>You:</b> {user_message}<br><b>Bot:</b> {bot_response}<br><br>\")\n",
    "    chat_output.value = \"\".join(chat_log)\n",
    "\n",
    "chat_log = []\n",
    "chat_output = widgets.HTML()\n",
    "message_box = widgets.Text(placeholder=\"Type your message here...\")\n",
    "send_button = widgets.Button(description=\"Send\")\n",
    "\n",
    "send_button.on_click(on_send_message)\n",
    "\n",
    "display(chat_output, message_box, send_button)\n"
   ]
  },
  {
   "cell_type": "code",
   "execution_count": null,
   "id": "2fc79f4c-0773-47cd-a8f5-0d809f922c4e",
   "metadata": {},
   "outputs": [],
   "source": [
    "import tkinter as tk\n",
    "from nltk.tokenize import word_tokenize\n",
    "import nltk\n",
    "\n",
    "nltk.download('punkt')  # Download tokenizer\n"
   ]
  },
  {
   "cell_type": "code",
   "execution_count": null,
   "id": "d72fe4a3-42a8-4b70-893e-0a8f133ff8f1",
   "metadata": {},
   "outputs": [],
   "source": [
    "def chatbot_response(user_input):\n",
    "    tokens = word_tokenize(user_input.lower())\n",
    "\n",
    "    responses = {\n",
    "        \"hello\": \"Hi there! How can I help?\",\n",
    "        \"how are you\": \"I'm just a bot, but I'm doing great!\",\n",
    "        \"what is your name\": \"I'm a simple chatbot!\",\n",
    "        \"bye\": \"Goodbye! Have a nice day!\",\n",
    "    }\n",
    "\n",
    "    for key in responses:\n",
    "        if key in tokens:\n",
    "            return responses[key]\n",
    "\n",
    "    return \"I'm still learning! Can you rephrase that?\"\n"
   ]
  },
  {
   "cell_type": "code",
   "execution_count": 13,
   "id": "0b83cc57-8055-4287-adf4-acf553a81aa4",
   "metadata": {},
   "outputs": [],
   "source": [
    "import tkinter as tk\n",
    "def send_message():\n",
    "    user_input = entry.get()\n",
    "    if user_input.lower() in [\"exit\", \"quit\", \"bye\"]:\n",
    "        chat_window.insert(tk.END, \"Chatbot: Goodbye!\\n\")\n",
    "        root.quit()\n",
    "    else:\n",
    "        response = chatbot_response(user_input)\n",
    "        chat_window.insert(tk.END, f\"You: {user_input}\\n\")\n",
    "        chat_window.insert(tk.END, f\"Chatbot: {response}\\n\")\n",
    "        entry.delete(0, tk.END)\n",
    "\n",
    "root = tk.Tk()\n",
    "root.title(\"Simple Chatbot\")\n",
    "\n",
    "chat_window = tk.Text(root, height=20, width=50)\n",
    "chat_window.pack()\n",
    "\n",
    "entry = tk.Entry(root, width=50)\n",
    "entry.pack()\n",
    "\n",
    "send_button = tk.Button(root, text=\"Send\", command=send_message)\n",
    "send_button.pack()\n",
    "\n",
    "root.mainloop()\n"
   ]
  },
  {
   "cell_type": "code",
   "execution_count": null,
   "id": "c9c66454-f873-40ad-b568-571bd131b7e9",
   "metadata": {},
   "outputs": [],
   "source": [
    "!pip install fuzzywuzzy\n",
    "\n",
    "from fuzzywuzzy import process\n",
    "\n",
    "responses = {\n",
    "    \"hello\": \"Hi there! How can I help?\",\n",
    "    \"how are you\": \"I'm just a bot, but I'm doing great!\",\n",
    "    \"what is your name\": \"I'm a simple chatbot!\",\n",
    "    \"bye\": \"Goodbye! Have a nice day!\",\n",
    "    \"who created you\": \"I was created by a Python developer!\",\n",
    "    \"what can you do\": \"I can chat with you and answer simple questions.\",\n",
    "}\n",
    "\n",
    "def chatbot_response(user_input):\n",
    "    user_input = user_input.lower()\n",
    "    best_match, score = process.extractOne(user_input, responses.keys())\n",
    "\n",
    "    if score > 60:  # If the match confidence is greater than 60%\n",
    "        return responses[best_match]\n",
    "    else:\n",
    "        return \"I'm still learning! Can you rephrase that?\"\n"
   ]
  },
  {
   "cell_type": "code",
   "execution_count": null,
   "id": "5001ea4f-4384-43fc-bdd9-be8aeeece9f3",
   "metadata": {},
   "outputs": [],
   "source": [
    "while True:\n",
    "    user_input = input(\"You: \")\n",
    "    if user_input.lower() == \"exit\":\n",
    "        print(\"Chatbot: Goodbye!\")\n",
    "        break\n",
    "    print(\"Chatbot:\", chatbot_response(user_input))\n"
   ]
  },
  {
   "cell_type": "code",
   "execution_count": null,
   "id": "1f5e99db-a319-4dc8-89f5-b1fc82e8a1b1",
   "metadata": {},
   "outputs": [],
   "source": []
  },
  {
   "cell_type": "code",
   "execution_count": null,
   "id": "e562af50-0a62-4449-b7cc-9bed14be00f9",
   "metadata": {},
   "outputs": [],
   "source": []
  }
 ],
 "metadata": {
  "kernelspec": {
   "display_name": "Python 3 (ipykernel)",
   "language": "python",
   "name": "python3"
  },
  "language_info": {
   "codemirror_mode": {
    "name": "ipython",
    "version": 3
   },
   "file_extension": ".py",
   "mimetype": "text/x-python",
   "name": "python",
   "nbconvert_exporter": "python",
   "pygments_lexer": "ipython3",
   "version": "3.12.6"
  }
 },
 "nbformat": 4,
 "nbformat_minor": 5
}
